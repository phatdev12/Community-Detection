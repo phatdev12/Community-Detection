{
  "cells": [
    {
      "cell_type": "code",
      "execution_count": 13,
      "metadata": {
        "id": "sboQ9rM2Znww"
      },
      "outputs": [],
      "source": [
        "import random"
      ]
    },
    {
      "cell_type": "code",
      "source": [
        "from google.colab import drive\n",
        "drive.mount('/content/drive')"
      ],
      "metadata": {
        "colab": {
          "base_uri": "https://localhost:8080/"
        },
        "id": "QhkNQBwoah7k",
        "outputId": "01ad9df5-f61e-4bed-e7e2-406a96ca9bfc"
      },
      "execution_count": 2,
      "outputs": [
        {
          "output_type": "stream",
          "name": "stdout",
          "text": [
            "Mounted at /content/drive\n"
          ]
        }
      ]
    },
    {
      "cell_type": "code",
      "execution_count": 9,
      "metadata": {
        "id": "Z_1CPJEoZnww"
      },
      "outputs": [],
      "source": [
        "graph = {}\n"
      ]
    },
    {
      "cell_type": "code",
      "execution_count": 10,
      "metadata": {
        "id": "k1S9KyMrZnwx"
      },
      "outputs": [],
      "source": [
        "with open(\"/out.ucidata-zachary\", 'r') as f:\n",
        "    for line in f:\n",
        "        u, v = map(int, line.split());\n",
        "        if(graph.get(u) == None):\n",
        "            graph[u] = []\n",
        "        if(graph.get(v) == None):\n",
        "            graph[v] = []\n",
        "        graph[u].append(v)\n",
        "        graph[v].append(u)\n",
        "\n"
      ]
    },
    {
      "cell_type": "code",
      "execution_count": 11,
      "metadata": {
        "colab": {
          "base_uri": "https://localhost:8080/"
        },
        "id": "yMi-wlvZZnwx",
        "outputId": "a6fcb4b9-ca68-4895-e443-97ec0b1bfc9d"
      },
      "outputs": [
        {
          "output_type": "execute_result",
          "data": {
            "text/plain": [
              "{1: [2, 3, 4, 5, 6, 7, 8, 9, 11, 12, 13, 14, 18, 20, 22, 32],\n",
              " 2: [1, 3, 4, 8, 14, 18, 20, 22, 31],\n",
              " 3: [1, 2, 4, 8, 9, 10, 14, 28, 29, 33],\n",
              " 4: [1, 2, 3, 8, 13, 14],\n",
              " 5: [1, 7, 11],\n",
              " 6: [1, 7, 11, 17],\n",
              " 7: [1, 5, 6, 17],\n",
              " 8: [1, 2, 3, 4],\n",
              " 9: [1, 3, 31, 33, 34],\n",
              " 10: [3, 34],\n",
              " 11: [1, 5, 6],\n",
              " 12: [1],\n",
              " 13: [1, 4],\n",
              " 14: [1, 2, 3, 4, 34],\n",
              " 17: [6, 7],\n",
              " 18: [1, 2],\n",
              " 20: [1, 2, 34],\n",
              " 22: [1, 2],\n",
              " 24: [26, 28, 30, 33, 34],\n",
              " 26: [24, 25, 32],\n",
              " 25: [26, 28, 32],\n",
              " 28: [3, 24, 25, 34],\n",
              " 29: [3, 32, 34],\n",
              " 30: [24, 27, 33, 34],\n",
              " 27: [30, 34],\n",
              " 31: [2, 9, 33, 34],\n",
              " 32: [1, 25, 26, 29, 33, 34],\n",
              " 33: [3, 9, 15, 16, 19, 21, 23, 24, 30, 31, 32, 34],\n",
              " 15: [33, 34],\n",
              " 16: [33, 34],\n",
              " 19: [33, 34],\n",
              " 21: [33, 34],\n",
              " 23: [33, 34],\n",
              " 34: [9, 10, 14, 15, 16, 19, 20, 21, 23, 24, 27, 28, 29, 30, 31, 32, 33]}"
            ]
          },
          "metadata": {},
          "execution_count": 11
        }
      ],
      "source": [
        "graph"
      ]
    },
    {
      "cell_type": "code",
      "execution_count": 14,
      "metadata": {
        "id": "8MwERJORZnwx"
      },
      "outputs": [],
      "source": [
        "populations = []\n",
        "k = 5\n",
        "for i in range(1, 100):\n",
        "    population = [];\n",
        "    for i in range(0, 35):\n",
        "        population.append(random.randint(1, k))\n",
        "    populations.append(population)"
      ]
    },
    {
      "cell_type": "code",
      "execution_count": null,
      "metadata": {
        "id": "YEwwDqSFZnwy"
      },
      "outputs": [],
      "source": []
    }
  ],
  "metadata": {
    "kernelspec": {
      "display_name": "Python 3",
      "language": "python",
      "name": "python3"
    },
    "language_info": {
      "codemirror_mode": {
        "name": "ipython",
        "version": 3
      },
      "file_extension": ".py",
      "mimetype": "text/x-python",
      "name": "python",
      "nbconvert_exporter": "python",
      "pygments_lexer": "ipython3",
      "version": "3.12.5"
    },
    "colab": {
      "provenance": [],
      "toc_visible": true
    }
  },
  "nbformat": 4,
  "nbformat_minor": 0
}