{
  "cells": [
    {
      "cell_type": "code",
      "execution_count": null,
      "metadata": {
        "id": "sboQ9rM2Znww"
      },
      "outputs": [],
      "source": [
        "import random"
      ]
    },
    {
      "cell_type": "code",
      "source": [
        "from google.colab import drive\n",
        "drive.mount('/content/drive')"
      ],
      "metadata": {
        "id": "QhkNQBwoah7k",
        "outputId": "01ad9df5-f61e-4bed-e7e2-406a96ca9bfc",
        "colab": {
          "base_uri": "https://localhost:8080/"
        }
      },
      "execution_count": 2,
      "outputs": [
        {
          "output_type": "stream",
          "name": "stdout",
          "text": [
            "Mounted at /content/drive\n"
          ]
        }
      ]
    },
    {
      "cell_type": "code",
      "execution_count": null,
      "metadata": {
        "id": "Z_1CPJEoZnww"
      },
      "outputs": [],
      "source": [
        "graph = {}"
      ]
    },
    {
      "cell_type": "code",
      "execution_count": 3,
      "metadata": {
        "id": "k1S9KyMrZnwx",
        "outputId": "a45de8be-b4bc-4f09-d8e7-c9bf17dc487e",
        "colab": {
          "base_uri": "https://localhost:8080/",
          "height": 211
        }
      },
      "outputs": [
        {
          "output_type": "error",
          "ename": "FileNotFoundError",
          "evalue": "[Errno 2] No such file or directory: './dataset/karate/out.ucidata-zachary'",
          "traceback": [
            "\u001b[0;31m---------------------------------------------------------------------------\u001b[0m",
            "\u001b[0;31mFileNotFoundError\u001b[0m                         Traceback (most recent call last)",
            "\u001b[0;32m<ipython-input-3-49a30e5649e7>\u001b[0m in \u001b[0;36m<cell line: 0>\u001b[0;34m()\u001b[0m\n\u001b[0;32m----> 1\u001b[0;31m \u001b[0;32mwith\u001b[0m \u001b[0mopen\u001b[0m\u001b[0;34m(\u001b[0m\u001b[0;34m\"./dataset/karate/out.ucidata-zachary\"\u001b[0m\u001b[0;34m,\u001b[0m \u001b[0;34m'r'\u001b[0m\u001b[0;34m)\u001b[0m \u001b[0;32mas\u001b[0m \u001b[0mf\u001b[0m\u001b[0;34m:\u001b[0m\u001b[0;34m\u001b[0m\u001b[0;34m\u001b[0m\u001b[0m\n\u001b[0m\u001b[1;32m      2\u001b[0m     \u001b[0;32mfor\u001b[0m \u001b[0mline\u001b[0m \u001b[0;32min\u001b[0m \u001b[0mf\u001b[0m\u001b[0;34m:\u001b[0m\u001b[0;34m\u001b[0m\u001b[0;34m\u001b[0m\u001b[0m\n\u001b[1;32m      3\u001b[0m         \u001b[0mu\u001b[0m\u001b[0;34m,\u001b[0m \u001b[0mv\u001b[0m \u001b[0;34m=\u001b[0m \u001b[0mmap\u001b[0m\u001b[0;34m(\u001b[0m\u001b[0mint\u001b[0m\u001b[0;34m,\u001b[0m \u001b[0mline\u001b[0m\u001b[0;34m.\u001b[0m\u001b[0msplit\u001b[0m\u001b[0;34m(\u001b[0m\u001b[0;34m)\u001b[0m\u001b[0;34m)\u001b[0m\u001b[0;34m;\u001b[0m\u001b[0;34m\u001b[0m\u001b[0;34m\u001b[0m\u001b[0m\n\u001b[1;32m      4\u001b[0m         \u001b[0;32mif\u001b[0m\u001b[0;34m(\u001b[0m\u001b[0mgraph\u001b[0m\u001b[0;34m.\u001b[0m\u001b[0mget\u001b[0m\u001b[0;34m(\u001b[0m\u001b[0mu\u001b[0m\u001b[0;34m)\u001b[0m \u001b[0;34m==\u001b[0m \u001b[0;32mNone\u001b[0m\u001b[0;34m)\u001b[0m\u001b[0;34m:\u001b[0m\u001b[0;34m\u001b[0m\u001b[0;34m\u001b[0m\u001b[0m\n\u001b[1;32m      5\u001b[0m             \u001b[0mgraph\u001b[0m\u001b[0;34m[\u001b[0m\u001b[0mu\u001b[0m\u001b[0;34m]\u001b[0m \u001b[0;34m=\u001b[0m \u001b[0;34m[\u001b[0m\u001b[0;34m]\u001b[0m\u001b[0;34m\u001b[0m\u001b[0;34m\u001b[0m\u001b[0m\n",
            "\u001b[0;31mFileNotFoundError\u001b[0m: [Errno 2] No such file or directory: './dataset/karate/out.ucidata-zachary'"
          ]
        }
      ],
      "source": [
        "with open(\"./dataset/karate/out.ucidata-zachary\", 'r') as f:\n",
        "    for line in f:\n",
        "        u, v = map(int, line.split());\n",
        "        if(graph.get(u) == None):\n",
        "            graph[u] = []\n",
        "        if(graph.get(v) == None):\n",
        "            graph[v] = []\n",
        "        graph[u].append(v)\n",
        "        graph[v].append(u)\n",
        "\n"
      ]
    },
    {
      "cell_type": "code",
      "source": [],
      "metadata": {
        "id": "GXVh2Qmxaf15"
      },
      "execution_count": null,
      "outputs": []
    },
    {
      "cell_type": "code",
      "execution_count": null,
      "metadata": {
        "id": "yMi-wlvZZnwx",
        "outputId": "d6e39217-1a00-4efb-b7dc-bc8820b6540f"
      },
      "outputs": [
        {
          "data": {
            "text/plain": [
              "{1: [2, 3, 4, 5, 6, 7, 8, 9, 11, 12, 13, 14, 18, 20, 22, 32],\n",
              " 2: [1, 3, 4, 8, 14, 18, 20, 22, 31],\n",
              " 3: [1, 2, 4, 8, 9, 10, 14, 28, 29, 33],\n",
              " 4: [1, 2, 3, 8, 13, 14],\n",
              " 5: [1, 7, 11],\n",
              " 6: [1, 7, 11, 17],\n",
              " 7: [1, 5, 6, 17],\n",
              " 8: [1, 2, 3, 4],\n",
              " 9: [1, 3, 31, 33, 34],\n",
              " 10: [3, 34],\n",
              " 11: [1, 5, 6],\n",
              " 12: [1],\n",
              " 13: [1, 4],\n",
              " 14: [1, 2, 3, 4, 34],\n",
              " 17: [6, 7],\n",
              " 18: [1, 2],\n",
              " 20: [1, 2, 34],\n",
              " 22: [1, 2],\n",
              " 24: [26, 28, 30, 33, 34],\n",
              " 26: [24, 25, 32],\n",
              " 25: [26, 28, 32],\n",
              " 28: [3, 24, 25, 34],\n",
              " 29: [3, 32, 34],\n",
              " 30: [24, 27, 33, 34],\n",
              " 27: [30, 34],\n",
              " 31: [2, 9, 33, 34],\n",
              " 32: [1, 25, 26, 29, 33, 34],\n",
              " 33: [3, 9, 15, 16, 19, 21, 23, 24, 30, 31, 32, 34],\n",
              " 15: [33, 34],\n",
              " 16: [33, 34],\n",
              " 19: [33, 34],\n",
              " 21: [33, 34],\n",
              " 23: [33, 34],\n",
              " 34: [9, 10, 14, 15, 16, 19, 20, 21, 23, 24, 27, 28, 29, 30, 31, 32, 33]}"
            ]
          },
          "execution_count": 22,
          "metadata": {},
          "output_type": "execute_result"
        }
      ],
      "source": [
        "graph"
      ]
    },
    {
      "cell_type": "code",
      "execution_count": null,
      "metadata": {
        "id": "8MwERJORZnwx"
      },
      "outputs": [],
      "source": [
        "populations = []\n",
        "k = 5\n",
        "for i in range(1, 100):\n",
        "    population = [];\n",
        "    for i in range(0, 35):\n",
        "        population.append(random.randint(1, k))\n",
        "    populations.append(population)"
      ]
    },
    {
      "cell_type": "code",
      "execution_count": null,
      "metadata": {
        "id": "YEwwDqSFZnwy"
      },
      "outputs": [],
      "source": []
    }
  ],
  "metadata": {
    "kernelspec": {
      "display_name": "Python 3",
      "language": "python",
      "name": "python3"
    },
    "language_info": {
      "codemirror_mode": {
        "name": "ipython",
        "version": 3
      },
      "file_extension": ".py",
      "mimetype": "text/x-python",
      "name": "python",
      "nbconvert_exporter": "python",
      "pygments_lexer": "ipython3",
      "version": "3.12.5"
    },
    "colab": {
      "provenance": []
    }
  },
  "nbformat": 4,
  "nbformat_minor": 0
}